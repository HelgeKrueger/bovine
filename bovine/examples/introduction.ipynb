{
 "cells": [
  {
   "attachments": {},
   "cell_type": "markdown",
   "metadata": {},
   "source": [
    "# Introducing Bovine\n",
    "\n",
    "The current library is the part of bovine that contains the necessities to build an ActivityPub Client and a bunch of utils that are necessary to work with ActivityPub, for example handling of various authentication/authorization methods or common methods to handle ActivityStreams object, e.g. determining if it is addressed to the Public.\n",
    "\n",
    "In order to use Bovine, we first need to create a BovineActor object:"
   ]
  },
  {
   "cell_type": "code",
   "execution_count": 1,
   "metadata": {},
   "outputs": [],
   "source": [
    "from bovine import BovineActor\n",
    "actor = BovineActor(\"../h.toml\")\n",
    "await actor.init()"
   ]
  },
  {
   "attachments": {},
   "cell_type": "markdown",
   "metadata": {},
   "source": [
    "## The inbox\n",
    "\n",
    "The next example illustrate how to iterate of the inbox of an Actor. It should be noted that the inbox is a CollectionHelper type of object. The max number can be set to None, however this will lead to stupid long run times, as there is a lot of stuff in the typical ActivityPub Inbox."
   ]
  },
  {
   "cell_type": "code",
   "execution_count": 3,
   "metadata": {},
   "outputs": [
    {
     "name": "stdout",
     "output_type": "stream",
     "text": [
      "\n",
      "Items loaded 10\n",
      "\n",
      "   0: Delete    : --- unknown  ---\n",
      "   1: Delete    : https://tecnfy.com/users/andy/statuses/109661143600364804\n",
      "   2: Create    : @Bundesregierung https://www.hartziv.org/news/20230310-buergergeld-49-euro-ticke\n",
      "   3: Create    : @Volksverpetzer Wann kümmert ihr euch um eure Datenschutzprobleme? Da auch mal e\n",
      "   4: Update    : While this appaears concerning I have no f&#39;ing idea what &quot;Google Cloud \n",
      "   5: Update    : How long has it been since you ate popcorn?\n",
      "#EvanPoll #Poll\n",
      "   6: Create    : While this appaears concerning I have no f&#39;ing idea what &quot;Google Cloud \n",
      "   7: Announce  : --- unknown  ---\n",
      "   8: Delete    : --- unknown  ---\n",
      "   9: Create    : @michcia @domi @Dee json-ld api :)))\n",
      "no joke, what if the api returned a flatten\n"
     ]
    }
   ],
   "source": [
    "inbox = await actor.inbox()\n",
    "await inbox.summary()"
   ]
  },
  {
   "cell_type": "code",
   "execution_count": 6,
   "metadata": {},
   "outputs": [
    {
     "name": "stdout",
     "output_type": "stream",
     "text": [
      "Type: Create    , Id: https://mastodon.gamedevalliance.fr/users/nighten/statuses/110055117241861739/activity\n",
      "\n",
      "Type: Note\n",
      "\n",
      "Content\n",
      "@evan Where is the &quot;never&quot; option evan?? &gt;:(\n",
      "\n",
      "Type: Create    , Id: https://mastodon.social/users/airwhale/statuses/110055112253259416/activity\n",
      "\n",
      "Type: Note\n",
      "\n",
      "Content\n",
      "@SwiftOnSecurity \n",
      "&quot;Without CatGirl, no CatWoman there can be.&quot; - Yoda\n",
      "\n",
      "Type: Create    , Id: https://chaos.social/users/gnarly_parker/statuses/110055102348797640/activity\n",
      "\n",
      "Type: Note\n",
      "\n",
      "Content\n",
      "@atomicpoet You mean every time? It always stayed a frog. 😢\n",
      "\n"
     ]
    }
   ],
   "source": [
    "from bovine.activitystreams.utils.print import print_activity\n",
    "\n",
    "async for x in inbox.iterate(max_number=3):\n",
    "    print_activity(x)\n"
   ]
  },
  {
   "attachments": {},
   "cell_type": "markdown",
   "metadata": {},
   "source": [
    "## The Outbox\n",
    "\n",
    "Let's write a note. We will write our note to one of my test accounts `@themilkman@mas.to`. For more options on what to do with notes, consult the `ObjectBuilder` class."
   ]
  },
  {
   "cell_type": "code",
   "execution_count": 2,
   "metadata": {},
   "outputs": [
    {
     "data": {
      "text/plain": [
       "{'@context': ['https://www.w3.org/ns/activitystreams',\n",
       "  {'inReplyToAtomUri': 'ostatus:inReplyToAtomUri',\n",
       "   'conversation': 'ostatus:conversation',\n",
       "   'ostatus': 'http://ostatus.org#'}],\n",
       " 'id': None,\n",
       " 'type': 'Create',\n",
       " 'actor': 'https://mymath.rocks/endpoints/SYn3cl_N4HAPfPHgo2x37XunLEmhV9LnxCggcYwyec0',\n",
       " 'object': {'@context': 'https://www.w3.org/ns/activitystreams',\n",
       "  'attributedTo': 'https://mymath.rocks/endpoints/SYn3cl_N4HAPfPHgo2x37XunLEmhV9LnxCggcYwyec0',\n",
       "  'type': 'Note',\n",
       "  'inReplyTo': None,\n",
       "  'content': 'Hello',\n",
       "  'published': '2023-03-20T14:17:58Z',\n",
       "  'to': ['https://mas.to/users/themilkman'],\n",
       "  'cc': []},\n",
       " 'published': '2023-03-20T14:17:58Z',\n",
       " 'to': ['https://mas.to/users/themilkman'],\n",
       " 'cc': []}"
      ]
     },
     "execution_count": 2,
     "metadata": {},
     "output_type": "execute_result"
    }
   ],
   "source": [
    "activity_factory, object_factory = actor.factories\n",
    "note = object_factory.note(\"Hello\").add_to(\"https://mas.to/users/themilkman\").build()\n",
    "create = activity_factory.create(note).build()\n",
    "\n",
    "create"
   ]
  },
  {
   "attachments": {},
   "cell_type": "markdown",
   "metadata": {},
   "source": [
    "Let's now send our note!"
   ]
  },
  {
   "cell_type": "code",
   "execution_count": 23,
   "metadata": {},
   "outputs": [
    {
     "data": {
      "text/plain": [
       "<ClientResponse(https://mymath.rocks/endpoints/fh07LGxmCxPlo_uHqfmWrzHHBRFjlyz7MyC6ge4eM4c) [201 ]>\n",
       "<CIMultiDictProxy('Server': 'nginx/1.18.0 (Ubuntu)', 'Date': 'Mon, 20 Mar 2023 10:05:36 GMT', 'Content-Type': 'application/json', 'Content-Length': '20', 'Connection': 'keep-alive', 'Location': 'https://mymath.rocks/objects/3853a3d6-9612-4155-88e0-e6c7cbeec882')>"
      ]
     },
     "execution_count": 23,
     "metadata": {},
     "output_type": "execute_result"
    }
   ],
   "source": [
    "await actor.send_to_outbox(create)"
   ]
  },
  {
   "attachments": {},
   "cell_type": "markdown",
   "metadata": {},
   "source": [
    "We realize that this was not displayed as a direct message, so we fix it. For this we need to add the target actor to the mentions. Don't ask me why, ask Mastodon!"
   ]
  },
  {
   "cell_type": "code",
   "execution_count": 7,
   "metadata": {},
   "outputs": [
    {
     "data": {
      "text/plain": [
       "<ClientResponse(https://mymath.rocks/endpoints/fh07LGxmCxPlo_uHqfmWrzHHBRFjlyz7MyC6ge4eM4c) [201 ]>\n",
       "<CIMultiDictProxy('Server': 'nginx/1.18.0 (Ubuntu)', 'Date': 'Mon, 20 Mar 2023 14:18:55 GMT', 'Content-Type': 'application/json', 'Content-Length': '20', 'Connection': 'keep-alive', 'Location': 'https://mymath.rocks/objects/0d81f39e-3141-4a88-b2cd-746a06699374')>"
      ]
     },
     "execution_count": 7,
     "metadata": {},
     "output_type": "execute_result"
    }
   ],
   "source": [
    "note = object_factory.note(\"Can you see this?\").add_to(\"https://mas.to/users/themilkman\").with_mention(\"https://mas.to/users/themilkman\").build()\n",
    "note[\"audience\"] = [\"as:Public\"]\n",
    "create = activity_factory.create(note).build()\n",
    "create[\"audience\"] = [\"as:Public\"]\n",
    "create\n",
    "await actor.send_to_outbox(create)"
   ]
  },
  {
   "cell_type": "code",
   "execution_count": 8,
   "metadata": {},
   "outputs": [
    {
     "data": {
      "text/plain": [
       "{'@context': ['https://www.w3.org/ns/activitystreams',\n",
       "  {'inReplyToAtomUri': 'ostatus:inReplyToAtomUri',\n",
       "   'conversation': 'ostatus:conversation',\n",
       "   'ostatus': 'http://ostatus.org#'}],\n",
       " 'id': None,\n",
       " 'type': 'Create',\n",
       " 'actor': 'https://mymath.rocks/endpoints/SYn3cl_N4HAPfPHgo2x37XunLEmhV9LnxCggcYwyec0',\n",
       " 'object': {'@context': 'https://www.w3.org/ns/activitystreams',\n",
       "  'attributedTo': 'https://mymath.rocks/endpoints/SYn3cl_N4HAPfPHgo2x37XunLEmhV9LnxCggcYwyec0',\n",
       "  'type': 'Note',\n",
       "  'inReplyTo': None,\n",
       "  'content': 'Can you see this?',\n",
       "  'published': '2023-03-20T14:18:54Z',\n",
       "  'to': ['https://mas.to/users/themilkman'],\n",
       "  'cc': [],\n",
       "  'tag': [{'href': 'https://mas.to/users/themilkman',\n",
       "    'name': 'https://mas.to/users/themilkman',\n",
       "    'type': 'Mention'}],\n",
       "  'audience': ['as:Public']},\n",
       " 'published': '2023-03-20T14:18:54Z',\n",
       " 'to': ['https://mas.to/users/themilkman'],\n",
       " 'cc': [],\n",
       " 'audience': ['as:Public']}"
      ]
     },
     "execution_count": 8,
     "metadata": {},
     "output_type": "execute_result"
    }
   ],
   "source": [
    "create"
   ]
  },
  {
   "cell_type": "code",
   "execution_count": 9,
   "metadata": {},
   "outputs": [
    {
     "ename": "NameError",
     "evalue": "name 'response' is not defined",
     "output_type": "error",
     "traceback": [
      "\u001b[0;31m---------------------------------------------------------------------------\u001b[0m",
      "\u001b[0;31mNameError\u001b[0m                                 Traceback (most recent call last)",
      "Cell \u001b[0;32mIn[9], line 1\u001b[0m\n\u001b[0;32m----> 1\u001b[0m response\u001b[39m.\u001b[39mheaders\n",
      "\u001b[0;31mNameError\u001b[0m: name 'response' is not defined"
     ]
    }
   ],
   "source": [
    "response.headers"
   ]
  },
  {
   "attachments": {},
   "cell_type": "markdown",
   "metadata": {},
   "source": [
    "## Proxying elements\n",
    "\n",
    "There are two ways to get objects with a BovineActor. First, there is `actor.get`, which performs a HTML request to the resource. Depending on how your BovineActor does authentication, you might not be able to resolve the object. To work around this, you can use `actor.proxy_element`, which lets the ActivityPub Server perform the request and then proxies the result to you. Also the cache of the ActivityPub server is used here."
   ]
  },
  {
   "cell_type": "code",
   "execution_count": 9,
   "metadata": {},
   "outputs": [
    {
     "data": {
      "text/plain": [
       "{'@context': ['https://www.w3.org/ns/activitystreams',\n",
       "  'https://w3id.org/security/v1',\n",
       "  {'manuallyApprovesFollowers': 'as:manuallyApprovesFollowers',\n",
       "   'toot': 'http://joinmastodon.org/ns#',\n",
       "   'featured': {'@id': 'toot:featured', '@type': '@id'},\n",
       "   'featuredTags': {'@id': 'toot:featuredTags', '@type': '@id'},\n",
       "   'alsoKnownAs': {'@id': 'as:alsoKnownAs', '@type': '@id'},\n",
       "   'movedTo': {'@id': 'as:movedTo', '@type': '@id'},\n",
       "   'schema': 'http://schema.org#',\n",
       "   'PropertyValue': 'schema:PropertyValue',\n",
       "   'value': 'schema:value',\n",
       "   'discoverable': 'toot:discoverable',\n",
       "   'Device': 'toot:Device',\n",
       "   'Ed25519Signature': 'toot:Ed25519Signature',\n",
       "   'Ed25519Key': 'toot:Ed25519Key',\n",
       "   'Curve25519Key': 'toot:Curve25519Key',\n",
       "   'EncryptedMessage': 'toot:EncryptedMessage',\n",
       "   'publicKeyBase64': 'toot:publicKeyBase64',\n",
       "   'deviceId': 'toot:deviceId',\n",
       "   'claim': {'@type': '@id', '@id': 'toot:claim'},\n",
       "   'fingerprintKey': {'@type': '@id', '@id': 'toot:fingerprintKey'},\n",
       "   'identityKey': {'@type': '@id', '@id': 'toot:identityKey'},\n",
       "   'devices': {'@type': '@id', '@id': 'toot:devices'},\n",
       "   'messageFranking': 'toot:messageFranking',\n",
       "   'messageType': 'toot:messageType',\n",
       "   'cipherText': 'toot:cipherText',\n",
       "   'suspended': 'toot:suspended'}],\n",
       " 'id': 'https://mastodon.social/actor',\n",
       " 'type': 'Application',\n",
       " 'inbox': 'https://mastodon.social/actor/inbox',\n",
       " 'outbox': 'https://mastodon.social/actor/outbox',\n",
       " 'preferredUsername': 'mastodon.social',\n",
       " 'url': 'https://mastodon.social/about/more?instance_actor=true',\n",
       " 'manuallyApprovesFollowers': True,\n",
       " 'publicKey': {'id': 'https://mastodon.social/actor#main-key',\n",
       "  'owner': 'https://mastodon.social/actor',\n",
       "  'publicKeyPem': '-----BEGIN PUBLIC KEY-----\\nMIIBIjANBgkqhkiG9w0BAQEFAAOCAQ8AMIIBCgKCAQEAxgaTsw2L7KAJVEi2yu/M\\nxOTleg9h3GBgi13YhyqaCw20wgSXhvd5C5Q8tMTlv5otUrYOB4CtwpkbD9gcSk3Y\\n4wQAGPjmkyp9XvzckRX1FJBm7Z9owNtvcu87OaIO3JZOXH0AB3BO+j5qvDJr9KlT\\neY8pbxNRAwegoFomFHWtTNQzrennkmWMbAya4IYwDUsTDHfYRR4MiWfKxhNI2HA8\\nrYPRSKfKBHZBGvX+nWzLvL0Km8mCHTGGiKiHB+x6GpFkve49uB3QYRtuYeNqgyNI\\n4Mn2/+JB9vJVw1HBiTVV4Gy2lc4NeY4GnrEEMQgeRj6YPm9u42auxApBl31TIs6J\\nxQIDAQAB\\n-----END PUBLIC KEY-----\\n'},\n",
       " 'endpoints': {'sharedInbox': 'https://mastodon.social/inbox'}}"
      ]
     },
     "execution_count": 9,
     "metadata": {},
     "output_type": "execute_result"
    }
   ],
   "source": [
    "await actor.get('https://mastodon.social/actor')"
   ]
  },
  {
   "cell_type": "code",
   "execution_count": 8,
   "metadata": {},
   "outputs": [
    {
     "data": {
      "text/plain": [
       "{'@context': ['https://www.w3.org/ns/activitystreams',\n",
       "  'https://w3id.org/security/v1',\n",
       "  {'Curve25519Key': 'toot:Curve25519Key',\n",
       "   'Device': 'toot:Device',\n",
       "   'Ed25519Key': 'toot:Ed25519Key',\n",
       "   'Ed25519Signature': 'toot:Ed25519Signature',\n",
       "   'EncryptedMessage': 'toot:EncryptedMessage',\n",
       "   'PropertyValue': 'schema:PropertyValue',\n",
       "   'alsoKnownAs': {'@id': 'as:alsoKnownAs', '@type': '@id'},\n",
       "   'cipherText': 'toot:cipherText',\n",
       "   'claim': {'@id': 'toot:claim', '@type': '@id'},\n",
       "   'deviceId': 'toot:deviceId',\n",
       "   'devices': {'@id': 'toot:devices', '@type': '@id'},\n",
       "   'discoverable': 'toot:discoverable',\n",
       "   'featured': {'@id': 'toot:featured', '@type': '@id'},\n",
       "   'featuredTags': {'@id': 'toot:featuredTags', '@type': '@id'},\n",
       "   'fingerprintKey': {'@id': 'toot:fingerprintKey', '@type': '@id'},\n",
       "   'identityKey': {'@id': 'toot:identityKey', '@type': '@id'},\n",
       "   'manuallyApprovesFollowers': 'as:manuallyApprovesFollowers',\n",
       "   'messageFranking': 'toot:messageFranking',\n",
       "   'messageType': 'toot:messageType',\n",
       "   'movedTo': {'@id': 'as:movedTo', '@type': '@id'},\n",
       "   'publicKeyBase64': 'toot:publicKeyBase64',\n",
       "   'schema': 'http://schema.org#',\n",
       "   'suspended': 'toot:suspended',\n",
       "   'toot': 'http://joinmastodon.org/ns#',\n",
       "   'value': 'schema:value'}],\n",
       " 'endpoints': {'sharedInbox': 'https://mastodon.social/inbox'},\n",
       " 'id': 'https://mastodon.social/actor',\n",
       " 'inbox': 'https://mastodon.social/actor/inbox',\n",
       " 'manuallyApprovesFollowers': True,\n",
       " 'outbox': 'https://mastodon.social/actor/outbox',\n",
       " 'preferredUsername': 'mastodon.social',\n",
       " 'publicKey': {'id': 'https://mastodon.social/actor#main-key',\n",
       "  'owner': 'https://mastodon.social/actor',\n",
       "  'publicKeyPem': '-----BEGIN PUBLIC KEY-----\\nMIIBIjANBgkqhkiG9w0BAQEFAAOCAQ8AMIIBCgKCAQEAxgaTsw2L7KAJVEi2yu/M\\nxOTleg9h3GBgi13YhyqaCw20wgSXhvd5C5Q8tMTlv5otUrYOB4CtwpkbD9gcSk3Y\\n4wQAGPjmkyp9XvzckRX1FJBm7Z9owNtvcu87OaIO3JZOXH0AB3BO+j5qvDJr9KlT\\neY8pbxNRAwegoFomFHWtTNQzrennkmWMbAya4IYwDUsTDHfYRR4MiWfKxhNI2HA8\\nrYPRSKfKBHZBGvX+nWzLvL0Km8mCHTGGiKiHB+x6GpFkve49uB3QYRtuYeNqgyNI\\n4Mn2/+JB9vJVw1HBiTVV4Gy2lc4NeY4GnrEEMQgeRj6YPm9u42auxApBl31TIs6J\\nxQIDAQAB\\n-----END PUBLIC KEY-----\\n'},\n",
       " 'type': 'Application',\n",
       " 'url': 'https://mastodon.social/about/more?instance_actor=true'}"
      ]
     },
     "execution_count": 8,
     "metadata": {},
     "output_type": "execute_result"
    }
   ],
   "source": [
    "await actor.proxy_element('https://mastodon.social/actor')"
   ]
  }
 ],
 "metadata": {
  "kernelspec": {
   "display_name": "bovine-GQJpvaXU-py3.10",
   "language": "python",
   "name": "python3"
  },
  "language_info": {
   "codemirror_mode": {
    "name": "ipython",
    "version": 3
   },
   "file_extension": ".py",
   "mimetype": "text/x-python",
   "name": "python",
   "nbconvert_exporter": "python",
   "pygments_lexer": "ipython3",
   "version": "3.10.6"
  },
  "orig_nbformat": 4
 },
 "nbformat": 4,
 "nbformat_minor": 2
}
