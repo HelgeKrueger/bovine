{
 "cells": [
  {
   "cell_type": "code",
   "execution_count": 2,
   "id": "2bd628ec",
   "metadata": {},
   "outputs": [],
   "source": [
    "# import rdflib\n",
    "import json\n",
    "\n",
    "# import requests\n",
    "\n",
    "# as_ld = requests.get(\"https://www.w3.org/ns/activitystreams\", headers={\"accept\": \"application/ld+json\"}).json()\n",
    "\n",
    "ctx = [ \"https://www.w3.org/ns/activitystreams\"]\n",
    "\n",
    "    \n",
    "frame = {\n",
    "  \"@context\": \"https://www.w3.org/ns/activitystreams\",\n",
    "  \"object\": {}\n",
    "}\n",
    "\n",
    "# The following is necessary due to the pyld document loader being broken:\n",
    "#\n",
    "# See \"# FIXME: only if html5lib loaded?\" on 6573 jsonld.py\n",
    "\n",
    "\n",
    "# def loader(*args, **kwargs):\n",
    "#     return  {\n",
    "#         \"contentType\": \"application/ld+json\",\n",
    "#         \"contextUrl\": None,\n",
    "#         \"documentUrl\": \"https://www.w3.org/ns/activitystreams\",\n",
    "#         \"document\": as_ld,\n",
    "#     }              \n",
    "\n",
    "from pyld import jsonld\n",
    "# jsonld.set_document_loader(loader)\n",
    "\n",
    "from glob import glob\n",
    "\n",
    "sample_files = glob('data/*.json')\n",
    "\n",
    "# from ipywidgets import interact"
   ]
  },
  {
   "cell_type": "code",
   "execution_count": 3,
   "id": "8e1a05f4",
   "metadata": {},
   "outputs": [
    {
     "data": {
      "text/plain": [
       "{'@context': ['https://www.w3.org/ns/activitystreams',\n",
       "  {'atomUri': 'ostatus:atomUri',\n",
       "   'inReplyToAtomUri': 'ostatus:inReplyToAtomUri',\n",
       "   'conversation': 'ostatus:conversation',\n",
       "   'ostatus': 'http://ostatus.org#'}],\n",
       " 'actor': 'https://my_domain/activitypub/name',\n",
       " 'cc': ['https://my_domain/activitypub/name/followers'],\n",
       " 'id': 'https://my_domain/activitypub/name/3c0281b7-bede-460a-a49b-3b6d7d4eb32f/activity',\n",
       " 'object': {'atomUri': 'https://my_domain/activitypub/name/3c0281b7-bede-460a-a49b-3b6d7d4eb32f',\n",
       "  'attachment': [],\n",
       "  'attributedTo': 'https://my_domain/activitypub/name',\n",
       "  'cc': ['https://my_domain/activitypub/name/followers'],\n",
       "  'content': '<p>I&#39;m literally creating test data.</p>\\n',\n",
       "  'contentMap': {'en': '<p>I&#39;m literally creating test data.</p>\\n'},\n",
       "  'id': 'https://my_domain/activitypub/name/3c0281b7-bede-460a-a49b-3b6d7d4eb32f',\n",
       "  'published': '2023-01-31T17:23:44.772Z',\n",
       "  'tag': [],\n",
       "  'replies': {'type': 'Collection', 'totalItems': 0, 'items': []},\n",
       "  'source': {'content': \"I'm literally creating test data.\",\n",
       "   'mediaType': 'text/markdown'},\n",
       "  'to': ['https://www.w3.org/ns/activitystreams#Public'],\n",
       "  'type': 'Note',\n",
       "  'url': 'https://my_domain/name/3c0281b7-bede-460a-a49b-3b6d7d4eb32f'},\n",
       " 'published': '2023-01-31T17:23:44.772Z',\n",
       " 'to': ['https://www.w3.org/ns/activitystreams#Public'],\n",
       " 'type': 'Create'}"
      ]
     },
     "execution_count": 3,
     "metadata": {},
     "output_type": "execute_result"
    }
   ],
   "source": [
    "with open(sample_files[3], \"r\") as f:\n",
    "    data = json.load(f)\n",
    "data"
   ]
  },
  {
   "cell_type": "code",
   "execution_count": 17,
   "id": "546224a1",
   "metadata": {},
   "outputs": [
    {
     "data": {
      "text/plain": [
       "{'@context': 'https://www.w3.org/ns/activitystreams',\n",
       " '@graph': [{'id': '_:b0', 'type': 'Collection', 'totalItems': 0},\n",
       "  {'id': '_:b1',\n",
       "   'content': \"I'm literally creating test data.\",\n",
       "   'mediaType': 'text/markdown'},\n",
       "  {'id': 'https://my_domain/activitypub/name'},\n",
       "  {'id': 'https://my_domain/activitypub/name/3c0281b7-bede-460a-a49b-3b6d7d4eb32f',\n",
       "   'type': 'Note',\n",
       "   'http://ostatus.org#atomUri': 'https://my_domain/activitypub/name/3c0281b7-bede-460a-a49b-3b6d7d4eb32f',\n",
       "   'attributedTo': 'https://my_domain/activitypub/name',\n",
       "   'cc': 'https://my_domain/activitypub/name/followers',\n",
       "   'content': '<p>I&#39;m literally creating test data.</p>\\n',\n",
       "   'contentMap': {'en': '<p>I&#39;m literally creating test data.</p>\\n'},\n",
       "   'published': '2023-01-31T17:23:44.772Z',\n",
       "   'replies': {'id': '_:b0', 'type': 'Collection', 'totalItems': 0},\n",
       "   'source': {'id': '_:b1',\n",
       "    'content': \"I'm literally creating test data.\",\n",
       "    'mediaType': 'text/markdown'},\n",
       "   'to': 'as:Public',\n",
       "   'url': 'https://my_domain/name/3c0281b7-bede-460a-a49b-3b6d7d4eb32f'},\n",
       "  {'id': 'https://my_domain/activitypub/name/followers'},\n",
       "  {'id': 'https://my_domain/name/3c0281b7-bede-460a-a49b-3b6d7d4eb32f'},\n",
       "  {'id': 'as:Public'}]}"
      ]
     },
     "execution_count": 17,
     "metadata": {},
     "output_type": "execute_result"
    }
   ],
   "source": [
    "# aaa = jsonld.compact(jsonld.flatten(data), data[\"@context\"])\n",
    "# jsonld.frame([aaa], {\"@context\": \"https://www.w3.org/ns/activitystreams\", \"object\":{}, \"actor\": {}})\n",
    "local = [x for x in aaa[\"@graph\"] if x[\"id\"].startswith('_')]\n",
    "remote = [x for x in aaa[\"@graph\"] if not x[\"id\"].startswith('_')]\n",
    "\n",
    "jsonld.frame({\"@context\": aaa[\"@context\"], \"@graph\": local + [remote[0]]}, {\"@context\": \"https://www.w3.org/ns/activitystreams\",})"
   ]
  },
  {
   "cell_type": "code",
   "execution_count": 15,
   "id": "d93bca2d",
   "metadata": {},
   "outputs": [
    {
     "data": {
      "text/plain": [
       "{'@context': ['https://www.w3.org/ns/activitystreams',\n",
       "  {'atomUri': 'ostatus:atomUri',\n",
       "   'inReplyToAtomUri': 'ostatus:inReplyToAtomUri',\n",
       "   'conversation': 'ostatus:conversation',\n",
       "   'ostatus': 'http://ostatus.org#'}],\n",
       " '@graph': [{'id': '_:b0', 'type': 'Collection', 'items': [], 'totalItems': 0},\n",
       "  {'id': '_:b1',\n",
       "   'content': \"I'm literally creating test data.\",\n",
       "   'mediaType': 'text/markdown'},\n",
       "  {'id': 'https://my_domain/activitypub/name/3c0281b7-bede-460a-a49b-3b6d7d4eb32f',\n",
       "   'type': 'Note',\n",
       "   'atomUri': 'https://my_domain/activitypub/name/3c0281b7-bede-460a-a49b-3b6d7d4eb32f',\n",
       "   'attachment': [],\n",
       "   'attributedTo': 'https://my_domain/activitypub/name',\n",
       "   'cc': 'https://my_domain/activitypub/name/followers',\n",
       "   'content': '<p>I&#39;m literally creating test data.</p>\\n',\n",
       "   'contentMap': {'en': '<p>I&#39;m literally creating test data.</p>\\n'},\n",
       "   'published': '2023-01-31T17:23:44.772Z',\n",
       "   'replies': '_:b0',\n",
       "   'source': {'id': '_:b1'},\n",
       "   'tag': [],\n",
       "   'to': 'as:Public',\n",
       "   'url': 'https://my_domain/name/3c0281b7-bede-460a-a49b-3b6d7d4eb32f'},\n",
       "  {'id': 'https://my_domain/activitypub/name/3c0281b7-bede-460a-a49b-3b6d7d4eb32f/activity',\n",
       "   'type': 'Create',\n",
       "   'actor': 'https://my_domain/activitypub/name',\n",
       "   'cc': 'https://my_domain/activitypub/name/followers',\n",
       "   'object': 'https://my_domain/activitypub/name/3c0281b7-bede-460a-a49b-3b6d7d4eb32f',\n",
       "   'published': '2023-01-31T17:23:44.772Z',\n",
       "   'to': 'as:Public'}]}"
      ]
     },
     "execution_count": 15,
     "metadata": {},
     "output_type": "execute_result"
    }
   ],
   "source": [
    "aaa"
   ]
  },
  {
   "cell_type": "code",
   "execution_count": 18,
   "id": "9734e3bf",
   "metadata": {},
   "outputs": [
    {
     "data": {
      "text/plain": [
       "{'@context': ['https://www.w3.org/ns/activitystreams',\n",
       "  {'atomUri': 'ostatus:atomUri',\n",
       "   'inReplyToAtomUri': 'ostatus:inReplyToAtomUri',\n",
       "   'conversation': 'ostatus:conversation',\n",
       "   'ostatus': 'http://ostatus.org#'}],\n",
       " '@graph': [{'id': '_:b0', 'type': 'Collection', 'items': [], 'totalItems': 0},\n",
       "  {'id': '_:b1',\n",
       "   'content': \"I'm literally creating test data.\",\n",
       "   'mediaType': 'text/markdown'},\n",
       "  {'id': 'https://my_domain/activitypub/name/3c0281b7-bede-460a-a49b-3b6d7d4eb32f',\n",
       "   'type': 'Note',\n",
       "   'atomUri': 'https://my_domain/activitypub/name/3c0281b7-bede-460a-a49b-3b6d7d4eb32f',\n",
       "   'attachment': [],\n",
       "   'attributedTo': 'https://my_domain/activitypub/name',\n",
       "   'cc': 'https://my_domain/activitypub/name/followers',\n",
       "   'content': '<p>I&#39;m literally creating test data.</p>\\n',\n",
       "   'contentMap': {'en': '<p>I&#39;m literally creating test data.</p>\\n'},\n",
       "   'published': '2023-01-31T17:23:44.772Z',\n",
       "   'replies': '_:b0',\n",
       "   'source': {'id': '_:b1'},\n",
       "   'tag': [],\n",
       "   'to': 'as:Public',\n",
       "   'url': 'https://my_domain/name/3c0281b7-bede-460a-a49b-3b6d7d4eb32f'}]}"
      ]
     },
     "execution_count": 18,
     "metadata": {},
     "output_type": "execute_result"
    }
   ],
   "source": [
    "{\"@context\": aaa[\"@context\"], \"@graph\": local + [remote[0]]}"
   ]
  },
  {
   "cell_type": "code",
   "execution_count": 17,
   "id": "4f9fbb60",
   "metadata": {},
   "outputs": [
    {
     "data": {
      "text/plain": [
       "{'@context': ['https://www.w3.org/ns/activitystreams',\n",
       "  {'atomUri': 'ostatus:atomUri',\n",
       "   'inReplyToAtomUri': 'ostatus:inReplyToAtomUri',\n",
       "   'conversation': 'ostatus:conversation',\n",
       "   'ostatus': 'http://ostatus.org#'}],\n",
       " '@graph': [{'id': '_:b0', 'type': 'Collection', 'items': [], 'totalItems': 0},\n",
       "  {'id': '_:b1',\n",
       "   'content': \"I'm literally creating test data.\",\n",
       "   'mediaType': 'text/markdown'},\n",
       "  {'id': 'https://my_domain/activitypub/name/3c0281b7-bede-460a-a49b-3b6d7d4eb32f',\n",
       "   'type': 'Note',\n",
       "   'atomUri': 'https://my_domain/activitypub/name/3c0281b7-bede-460a-a49b-3b6d7d4eb32f',\n",
       "   'attachment': [],\n",
       "   'attributedTo': 'https://my_domain/activitypub/name',\n",
       "   'cc': 'https://my_domain/activitypub/name/followers',\n",
       "   'content': '<p>I&#39;m literally creating test data.</p>\\n',\n",
       "   'contentMap': {'en': '<p>I&#39;m literally creating test data.</p>\\n'},\n",
       "   'published': '2023-01-31T17:23:44.772Z',\n",
       "   'replies': '_:b0',\n",
       "   'source': {'id': '_:b1'},\n",
       "   'tag': [],\n",
       "   'to': 'as:Public',\n",
       "   'url': 'https://my_domain/name/3c0281b7-bede-460a-a49b-3b6d7d4eb32f'},\n",
       "  {'id': 'https://my_domain/activitypub/name/3c0281b7-bede-460a-a49b-3b6d7d4eb32f/activity',\n",
       "   'type': 'Create',\n",
       "   'actor': 'https://my_domain/activitypub/name',\n",
       "   'cc': 'https://my_domain/activitypub/name/followers',\n",
       "   'object': 'https://my_domain/activitypub/name/3c0281b7-bede-460a-a49b-3b6d7d4eb32f',\n",
       "   'published': '2023-01-31T17:23:44.772Z',\n",
       "   'to': 'as:Public'}]}"
      ]
     },
     "execution_count": 17,
     "metadata": {},
     "output_type": "execute_result"
    }
   ],
   "source": [
    "aaa = jsonld.compact(jsonld.flatten(data), data[\"@context\"])\n",
    "aaa"
   ]
  },
  {
   "cell_type": "code",
   "execution_count": 4,
   "id": "7ef65a4a",
   "metadata": {},
   "outputs": [
    {
     "name": "stdout",
     "output_type": "stream",
     "text": [
      "933 ms ± 97.3 ms per loop (mean ± std. dev. of 7 runs, 1 loop each)\n"
     ]
    }
   ],
   "source": [
    "def sanitize_activity(activity):\n",
    "    # parsing and reserializing removes nodes not in the context\n",
    "    G = rdflib.Graph()\n",
    "    G.parse(data=activity, format='json-ld')\n",
    "    result = json.loads(G.serialize(format='json-ld', \n",
    "                      auto_compact=False, \n",
    "                      use_native_types=True,\n",
    "                      context=ctx))\n",
    "    # reframing ensures the format is as desired\n",
    "    return jsonld.frame(result, frame)\n",
    "\n",
    "def display_sample(filename):\n",
    "\n",
    "    with open(filename) as f:\n",
    "        activity = json.load(f)\n",
    "    sanitize_activity(activity)\n",
    "#     print(\"--- Original JSON ---\")\n",
    "#     print(json.dumps(activity, indent=2))\n",
    "        \n",
    "#     print(\"--- Sanitized JSON ---\")\n",
    "#     print(json.dumps(sanitize_activity(activity), indent=2))\n",
    "\n",
    "%timeit display_sample(sample_files[3])"
   ]
  },
  {
   "cell_type": "code",
   "execution_count": 41,
   "id": "f57e0a3c",
   "metadata": {},
   "outputs": [
    {
     "data": {
      "application/vnd.jupyter.widget-view+json": {
       "model_id": "67e4ed720a5046b998e7a3565b54a75f",
       "version_major": 2,
       "version_minor": 0
      },
      "text/plain": [
       "interactive(children=(Dropdown(description='filename', options=('data/mastodon_delete_actor_1.json', 'data/buf…"
      ]
     },
     "metadata": {},
     "output_type": "display_data"
    },
    {
     "data": {
      "text/plain": [
       "<function __main__.display_sample(filename)>"
      ]
     },
     "execution_count": 41,
     "metadata": {},
     "output_type": "execute_result"
    }
   ],
   "source": [
    "interact(display_sample, filename=sample_files)"
   ]
  }
 ],
 "metadata": {
  "kernelspec": {
   "display_name": "Python 3 (ipykernel)",
   "language": "python",
   "name": "python3"
  },
  "language_info": {
   "codemirror_mode": {
    "name": "ipython",
    "version": 3
   },
   "file_extension": ".py",
   "mimetype": "text/x-python",
   "name": "python",
   "nbconvert_exporter": "python",
   "pygments_lexer": "ipython3",
   "version": "3.10.6"
  }
 },
 "nbformat": 4,
 "nbformat_minor": 5
}
