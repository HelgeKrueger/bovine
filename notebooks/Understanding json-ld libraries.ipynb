{
 "cells": [
  {
   "cell_type": "code",
   "execution_count": 1,
   "id": "2bd628ec",
   "metadata": {},
   "outputs": [],
   "source": [
    "import rdflib\n",
    "import json\n",
    "\n",
    "import requests\n",
    "\n",
    "as_ld = requests.get(\"https://www.w3.org/ns/activitystreams\", headers={\"accept\": \"application/ld+json\"}).json()\n",
    "\n",
    "ctx = [ \"https://www.w3.org/ns/activitystreams\"]\n",
    "\n",
    "    \n",
    "frame = {\n",
    "  \"@context\": \"https://www.w3.org/ns/activitystreams\",\n",
    "  \"object\": {}\n",
    "}\n",
    "\n",
    "# The following is necessary due to the pyld document loader being broken:\n",
    "#\n",
    "# See \"# FIXME: only if html5lib loaded?\" on 6573 jsonld.py\n",
    "\n",
    "\n",
    "def loader(*args, **kwargs):\n",
    "    return  {\n",
    "        \"contentType\": \"application/ld+json\",\n",
    "        \"contextUrl\": None,\n",
    "        \"documentUrl\": \"https://www.w3.org/ns/activitystreams\",\n",
    "        \"document\": as_ld,\n",
    "    }              \n",
    "\n",
    "from pyld import jsonld\n",
    "jsonld.set_document_loader(loader)\n",
    "\n",
    "from glob import glob\n",
    "\n",
    "sample_files = glob('data/*.json')\n",
    "\n",
    "from ipywidgets import interact"
   ]
  },
  {
   "cell_type": "code",
   "execution_count": 4,
   "id": "7ef65a4a",
   "metadata": {},
   "outputs": [
    {
     "name": "stdout",
     "output_type": "stream",
     "text": [
      "933 ms ± 97.3 ms per loop (mean ± std. dev. of 7 runs, 1 loop each)\n"
     ]
    }
   ],
   "source": [
    "def sanitize_activity(activity):\n",
    "    # parsing and reserializing removes nodes not in the context\n",
    "    G = rdflib.Graph()\n",
    "    G.parse(data=activity, format='json-ld')\n",
    "    result = json.loads(G.serialize(format='json-ld', \n",
    "                      auto_compact=False, \n",
    "                      use_native_types=True,\n",
    "                      context=ctx))\n",
    "    # reframing ensures the format is as desired\n",
    "    return jsonld.frame(result, frame)\n",
    "\n",
    "def display_sample(filename):\n",
    "\n",
    "    with open(filename) as f:\n",
    "        activity = json.load(f)\n",
    "    sanitize_activity(activity)\n",
    "#     print(\"--- Original JSON ---\")\n",
    "#     print(json.dumps(activity, indent=2))\n",
    "        \n",
    "#     print(\"--- Sanitized JSON ---\")\n",
    "#     print(json.dumps(sanitize_activity(activity), indent=2))\n",
    "\n",
    "%timeit display_sample(sample_files[3])"
   ]
  },
  {
   "cell_type": "code",
   "execution_count": 41,
   "id": "f57e0a3c",
   "metadata": {},
   "outputs": [
    {
     "data": {
      "application/vnd.jupyter.widget-view+json": {
       "model_id": "67e4ed720a5046b998e7a3565b54a75f",
       "version_major": 2,
       "version_minor": 0
      },
      "text/plain": [
       "interactive(children=(Dropdown(description='filename', options=('data/mastodon_delete_actor_1.json', 'data/buf…"
      ]
     },
     "metadata": {},
     "output_type": "display_data"
    },
    {
     "data": {
      "text/plain": [
       "<function __main__.display_sample(filename)>"
      ]
     },
     "execution_count": 41,
     "metadata": {},
     "output_type": "execute_result"
    }
   ],
   "source": [
    "interact(display_sample, filename=sample_files)"
   ]
  }
 ],
 "metadata": {
  "kernelspec": {
   "display_name": "Python 3 (ipykernel)",
   "language": "python",
   "name": "python3"
  },
  "language_info": {
   "codemirror_mode": {
    "name": "ipython",
    "version": 3
   },
   "file_extension": ".py",
   "mimetype": "text/x-python",
   "name": "python",
   "nbconvert_exporter": "python",
   "pygments_lexer": "ipython3",
   "version": "3.10.6"
  }
 },
 "nbformat": 4,
 "nbformat_minor": 5
}
