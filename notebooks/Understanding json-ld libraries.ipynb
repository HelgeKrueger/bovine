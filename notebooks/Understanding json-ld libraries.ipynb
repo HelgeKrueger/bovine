{
 "cells": [
  {
   "cell_type": "code",
   "execution_count": 1,
   "id": "2bd628ec",
   "metadata": {},
   "outputs": [],
   "source": [
    "import rdflib\n",
    "import json\n",
    "\n",
    "import requests\n",
    "\n",
    "as_ld = requests.get(\"https://www.w3.org/ns/activitystreams\", headers={\"accept\": \"application/ld+json\"}).json()\n",
    "\n",
    "ctx = [ \"https://www.w3.org/ns/activitystreams\"]\n",
    "\n",
    "    \n",
    "frame = {\n",
    "  \"@context\": \"https://www.w3.org/ns/activitystreams\",\n",
    "  \"object\": {}\n",
    "}\n",
    "\n",
    "# The following is necessary due to the pyld document loader being broken:\n",
    "#\n",
    "# See \"# FIXME: only if html5lib loaded?\" on 6573 jsonld.py\n",
    "\n",
    "\n",
    "def loader(*args, **kwargs):\n",
    "    return  {\n",
    "        \"contentType\": \"application/ld+json\",\n",
    "        \"contextUrl\": None,\n",
    "        \"documentUrl\": \"https://www.w3.org/ns/activitystreams\",\n",
    "        \"document\": as_ld,\n",
    "    }              \n",
    "\n",
    "from pyld import jsonld\n",
    "jsonld.set_document_loader(loader)\n",
    "\n",
    "from glob import glob\n",
    "\n",
    "sample_files = glob('data/*.json')\n",
    "\n",
    "from ipywidgets import interact"
   ]
  },
  {
   "cell_type": "code",
   "execution_count": 2,
   "id": "7ef65a4a",
   "metadata": {},
   "outputs": [
    {
     "name": "stdout",
     "output_type": "stream",
     "text": [
      "--- Original JSON ---\n",
      "{\n",
      "  \"@context\": \"https://www.w3.org/ns/activitystreams\",\n",
      "  \"actor\": \"https://my_domain/activitypub/munchingcow\",\n",
      "  \"cc\": [\n",
      "    \"https://my_domain/activitypub/munchingcow/followers\"\n",
      "  ],\n",
      "  \"id\": \"https://my_domain/activitypub/munchingcow/9c1d3b44-c6f6-4310-9113-a0c3d3208cac/activity\",\n",
      "  \"object\": {\n",
      "    \"@context\": \"https://www.w3.org/ns/activitystreams\",\n",
      "    \"attributedTo\": \"https://my_domain/activitypub/munchingcow\",\n",
      "    \"cc\": [\n",
      "      \"https://my_domain/activitypub/munchingcow/followers\"\n",
      "    ],\n",
      "    \"content\": \"<p>TEST</p>\",\n",
      "    \"id\": \"https://my_domain/activitypub/munchingcow/9c1d3b44-c6f6-4310-9113-a0c3d3208cac\",\n",
      "    \"inReplyTo\": null,\n",
      "    \"published\": \"2023-01-25T16:00:39Z\",\n",
      "    \"source\": {\n",
      "      \"content\": \"TEST \",\n",
      "      \"mediaType\": \"text/markdown\"\n",
      "    },\n",
      "    \"to\": [\n",
      "      \"https://www.w3.org/ns/activitystreams#Public\"\n",
      "    ],\n",
      "    \"type\": \"Note\"\n",
      "  },\n",
      "  \"published\": \"2023-01-25T16:00:39Z\",\n",
      "  \"to\": [\n",
      "    \"https://www.w3.org/ns/activitystreams#Public\"\n",
      "  ],\n",
      "  \"type\": \"Create\"\n",
      "}\n",
      "--- Sanitized JSON ---\n",
      "{\n",
      "  \"@context\": \"https://www.w3.org/ns/activitystreams\",\n",
      "  \"id\": \"https://my_domain/activitypub/munchingcow/9c1d3b44-c6f6-4310-9113-a0c3d3208cac/activity\",\n",
      "  \"type\": \"Create\",\n",
      "  \"actor\": \"https://my_domain/activitypub/munchingcow\",\n",
      "  \"cc\": \"https://my_domain/activitypub/munchingcow/followers\",\n",
      "  \"object\": {\n",
      "    \"id\": \"https://my_domain/activitypub/munchingcow/9c1d3b44-c6f6-4310-9113-a0c3d3208cac\",\n",
      "    \"type\": \"Note\",\n",
      "    \"attributedTo\": \"https://my_domain/activitypub/munchingcow\",\n",
      "    \"cc\": \"https://my_domain/activitypub/munchingcow/followers\",\n",
      "    \"content\": \"<p>TEST</p>\",\n",
      "    \"published\": \"2023-01-25T16:00:39+00:00\",\n",
      "    \"source\": {\n",
      "      \"content\": \"TEST \",\n",
      "      \"mediaType\": \"text/markdown\"\n",
      "    },\n",
      "    \"to\": \"as:Public\"\n",
      "  },\n",
      "  \"published\": \"2023-01-25T16:00:39+00:00\",\n",
      "  \"to\": \"as:Public\"\n",
      "}\n"
     ]
    }
   ],
   "source": [
    "def sanitize_activity(activity):\n",
    "    # parsing and reserializing removes nodes not in the context\n",
    "    G = rdflib.Graph()\n",
    "    G.parse(data=activity, format='json-ld')\n",
    "    result = json.loads(G.serialize(format='json-ld', \n",
    "                      auto_compact=False, \n",
    "                      use_native_types=True,\n",
    "                      context=ctx))\n",
    "    # reframing ensures the format is as desired\n",
    "    return jsonld.frame(result, frame)\n",
    "\n",
    "def display_sample(filename):\n",
    "\n",
    "    with open(filename) as f:\n",
    "        activity = json.load(f)\n",
    "\n",
    "    print(\"--- Original JSON ---\")\n",
    "    print(json.dumps(activity, indent=2))\n",
    "        \n",
    "    print(\"--- Sanitized JSON ---\")\n",
    "    print(json.dumps(sanitize_activity(activity), indent=2))\n",
    "\n",
    "display_sample(sample_files[3])"
   ]
  },
  {
   "cell_type": "code",
   "execution_count": 41,
   "id": "f57e0a3c",
   "metadata": {},
   "outputs": [
    {
     "data": {
      "application/vnd.jupyter.widget-view+json": {
       "model_id": "67e4ed720a5046b998e7a3565b54a75f",
       "version_major": 2,
       "version_minor": 0
      },
      "text/plain": [
       "interactive(children=(Dropdown(description='filename', options=('data/mastodon_delete_actor_1.json', 'data/buf…"
      ]
     },
     "metadata": {},
     "output_type": "display_data"
    },
    {
     "data": {
      "text/plain": [
       "<function __main__.display_sample(filename)>"
      ]
     },
     "execution_count": 41,
     "metadata": {},
     "output_type": "execute_result"
    }
   ],
   "source": [
    "interact(display_sample, filename=sample_files)"
   ]
  }
 ],
 "metadata": {
  "kernelspec": {
   "display_name": "Python 3 (ipykernel)",
   "language": "python",
   "name": "python3"
  },
  "language_info": {
   "codemirror_mode": {
    "name": "ipython",
    "version": 3
   },
   "file_extension": ".py",
   "mimetype": "text/x-python",
   "name": "python",
   "nbconvert_exporter": "python",
   "pygments_lexer": "ipython3",
   "version": "3.10.6"
  }
 },
 "nbformat": 4,
 "nbformat_minor": 5
}
